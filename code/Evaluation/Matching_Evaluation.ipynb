{
  "nbformat": 4,
  "nbformat_minor": 2,
  "metadata": {
    "colab": {
      "name": "Matching_Evaluation.ipynb",
      "provenance": [],
      "collapsed_sections": []
    },
    "kernelspec": {
      "display_name": "Python 3",
      "name": "python3"
    },
    "language_info": {
      "name": "python"
    }
  },
  "cells": [
    {
      "cell_type": "code",
      "execution_count": 37,
      "source": [
        "!pip install sentence-transformers"
      ],
      "outputs": [
        {
          "output_type": "stream",
          "name": "stdout",
          "text": [
            "Requirement already satisfied: sentence-transformers in /usr/local/lib/python3.7/dist-packages (2.0.0)\n",
            "Requirement already satisfied: numpy in /usr/local/lib/python3.7/dist-packages (from sentence-transformers) (1.19.5)\n",
            "Requirement already satisfied: torch>=1.6.0 in /usr/local/lib/python3.7/dist-packages (from sentence-transformers) (1.9.0+cu102)\n",
            "Requirement already satisfied: huggingface-hub in /usr/local/lib/python3.7/dist-packages (from sentence-transformers) (0.0.12)\n",
            "Requirement already satisfied: scikit-learn in /usr/local/lib/python3.7/dist-packages (from sentence-transformers) (0.22.2.post1)\n",
            "Requirement already satisfied: torchvision in /usr/local/lib/python3.7/dist-packages (from sentence-transformers) (0.10.0+cu102)\n",
            "Requirement already satisfied: scipy in /usr/local/lib/python3.7/dist-packages (from sentence-transformers) (1.4.1)\n",
            "Requirement already satisfied: sentencepiece in /usr/local/lib/python3.7/dist-packages (from sentence-transformers) (0.1.96)\n",
            "Requirement already satisfied: transformers<5.0.0,>=4.6.0 in /usr/local/lib/python3.7/dist-packages (from sentence-transformers) (4.9.2)\n",
            "Requirement already satisfied: nltk in /usr/local/lib/python3.7/dist-packages (from sentence-transformers) (3.2.5)\n",
            "Requirement already satisfied: tqdm in /usr/local/lib/python3.7/dist-packages (from sentence-transformers) (4.62.0)\n",
            "Requirement already satisfied: typing-extensions in /usr/local/lib/python3.7/dist-packages (from torch>=1.6.0->sentence-transformers) (3.7.4.3)\n",
            "Requirement already satisfied: importlib-metadata in /usr/local/lib/python3.7/dist-packages (from transformers<5.0.0,>=4.6.0->sentence-transformers) (4.6.4)\n",
            "Requirement already satisfied: sacremoses in /usr/local/lib/python3.7/dist-packages (from transformers<5.0.0,>=4.6.0->sentence-transformers) (0.0.45)\n",
            "Requirement already satisfied: regex!=2019.12.17 in /usr/local/lib/python3.7/dist-packages (from transformers<5.0.0,>=4.6.0->sentence-transformers) (2019.12.20)\n",
            "Requirement already satisfied: pyyaml>=5.1 in /usr/local/lib/python3.7/dist-packages (from transformers<5.0.0,>=4.6.0->sentence-transformers) (5.4.1)\n",
            "Requirement already satisfied: requests in /usr/local/lib/python3.7/dist-packages (from transformers<5.0.0,>=4.6.0->sentence-transformers) (2.23.0)\n",
            "Requirement already satisfied: tokenizers<0.11,>=0.10.1 in /usr/local/lib/python3.7/dist-packages (from transformers<5.0.0,>=4.6.0->sentence-transformers) (0.10.3)\n",
            "Requirement already satisfied: packaging in /usr/local/lib/python3.7/dist-packages (from transformers<5.0.0,>=4.6.0->sentence-transformers) (21.0)\n",
            "Requirement already satisfied: filelock in /usr/local/lib/python3.7/dist-packages (from transformers<5.0.0,>=4.6.0->sentence-transformers) (3.0.12)\n",
            "Requirement already satisfied: pyparsing>=2.0.2 in /usr/local/lib/python3.7/dist-packages (from packaging->transformers<5.0.0,>=4.6.0->sentence-transformers) (2.4.7)\n",
            "Requirement already satisfied: zipp>=0.5 in /usr/local/lib/python3.7/dist-packages (from importlib-metadata->transformers<5.0.0,>=4.6.0->sentence-transformers) (3.5.0)\n",
            "Requirement already satisfied: six in /usr/local/lib/python3.7/dist-packages (from nltk->sentence-transformers) (1.15.0)\n",
            "Requirement already satisfied: chardet<4,>=3.0.2 in /usr/local/lib/python3.7/dist-packages (from requests->transformers<5.0.0,>=4.6.0->sentence-transformers) (3.0.4)\n",
            "Requirement already satisfied: urllib3!=1.25.0,!=1.25.1,<1.26,>=1.21.1 in /usr/local/lib/python3.7/dist-packages (from requests->transformers<5.0.0,>=4.6.0->sentence-transformers) (1.24.3)\n",
            "Requirement already satisfied: certifi>=2017.4.17 in /usr/local/lib/python3.7/dist-packages (from requests->transformers<5.0.0,>=4.6.0->sentence-transformers) (2021.5.30)\n",
            "Requirement already satisfied: idna<3,>=2.5 in /usr/local/lib/python3.7/dist-packages (from requests->transformers<5.0.0,>=4.6.0->sentence-transformers) (2.10)\n",
            "Requirement already satisfied: click in /usr/local/lib/python3.7/dist-packages (from sacremoses->transformers<5.0.0,>=4.6.0->sentence-transformers) (7.1.2)\n",
            "Requirement already satisfied: joblib in /usr/local/lib/python3.7/dist-packages (from sacremoses->transformers<5.0.0,>=4.6.0->sentence-transformers) (1.0.1)\n",
            "Requirement already satisfied: pillow>=5.3.0 in /usr/local/lib/python3.7/dist-packages (from torchvision->sentence-transformers) (7.1.2)\n"
          ]
        }
      ],
      "metadata": {
        "colab": {
          "base_uri": "https://localhost:8080/"
        },
        "id": "lVftsxZXEgsH",
        "outputId": "cb93b730-2f5c-436f-9dcd-0a252e85cd9f"
      }
    },
    {
      "cell_type": "code",
      "execution_count": 38,
      "source": [
        "from sentence_transformers import SentenceTransformer, util"
      ],
      "outputs": [],
      "metadata": {
        "id": "x7rYYmc2uUA4"
      }
    },
    {
      "cell_type": "code",
      "execution_count": 39,
      "source": [
        "import pandas as pd"
      ],
      "outputs": [],
      "metadata": {
        "id": "oX3VLicUN1y1"
      }
    },
    {
      "cell_type": "code",
      "execution_count": null,
      "source": [
        "data_frame = pd.read_csv('/content/drive/MyDrive/RFP/Matching_Evaluation.csv', engine='python')\r\n",
        "\r\n",
        "df = data_frame\r\n"
      ],
      "outputs": [],
      "metadata": {
        "id": "hrpD3G8TN53F",
        "colab": {
          "base_uri": "https://localhost:8080/",
          "height": 963
        },
        "outputId": "fdac7149-2251-470a-d539-7ccb26517abd"
      }
    },
    {
      "cell_type": "code",
      "execution_count": 41,
      "source": [
        "query_list = df['Interests'].astype(str)\r\n",
        "#query_list = query_list.dropna\r\n",
        "synopsis_list = df['Synopsis'].astype(str)\r\n",
        "#synopsis_list = synopsis_list.dropna"
      ],
      "outputs": [],
      "metadata": {
        "id": "E-ODXX9d8-P2"
      }
    },
    {
      "cell_type": "code",
      "execution_count": null,
      "source": [
        "for i in range(len(query_list)):\r\n",
        "  print(query_list[i])\r\n",
        "  print(synopsis_list[i])"
      ],
      "outputs": [],
      "metadata": {
        "colab": {
          "base_uri": "https://localhost:8080/"
        },
        "id": "LO_mCnz6iBsm",
        "outputId": "bc84eacc-677f-4ef3-fd67-2687bbd3a867"
      }
    },
    {
      "cell_type": "code",
      "execution_count": 46,
      "source": [
        "#We then load the allenai-specter model with SentenceTransformers\r\n",
        "model = SentenceTransformer('allenai-specter')\r\n",
        "\r\n",
        "#\r\n",
        "\r\n",
        "#Compute embeddings for all synopsis\r\n",
        "corpus_embeddings = model.encode(synopsis_list, convert_to_tensor=True)\r\n"
      ],
      "outputs": [],
      "metadata": {
        "id": "14qsqKZ2HfVy"
      }
    },
    {
      "cell_type": "code",
      "execution_count": 47,
      "source": [
        "#We define a function, given query, searches our corpus for relevant synopsis\r\n",
        "def search_keywords(query):\r\n",
        "  query_embedding = model.encode(query, convert_to_tensor=True)\r\n",
        "  corpus_list =[]\r\n",
        "  search_hits = util.semantic_search(query_embedding, corpus_embeddings)\r\n",
        "  #search_hits = search_hits[0]  #Get the hits for the first query\r\n",
        "  print(search_hits)\r\n",
        "  #print(\"Most similar sentences:\")\r\n",
        "  count = 4\r\n",
        "  i = 0\r\n",
        "  for hit in search_hits:\r\n",
        "    #print(hit) \r\n",
        "    i = i + 1\r\n",
        "    #print(hit[0]['corpus_id'])\r\n",
        "    #related_paper = a_list[hit['corpus_id']]\r\n",
        "    #print(related_paper)\r\n",
        "  for hit in search_hits:\r\n",
        "    #print(hit) \r\n",
        "    for i in range(len(hit)):\r\n",
        "      #print(hit[i]['corpus_id'])\r\n",
        "      corpus_list.append(hit[i]['corpus_id'])\r\n",
        "    \r\n",
        "    #related_paper = a_list[hit['corpus_id']]\r\n",
        "    #print(related_paper)\r\n",
        "    return corpus_list\r\n",
        "  "
      ],
      "outputs": [],
      "metadata": {
        "id": "2bbfpKMwJG9Q"
      }
    },
    {
      "cell_type": "code",
      "execution_count": 48,
      "source": [
        "def fn_score(query):\r\n",
        "  query_embedding = model.encode(query, convert_to_tensor=True)\r\n",
        "  corpus_list =[]\r\n",
        "  search_hits = util.semantic_search(query_embedding, corpus_embeddings)\r\n",
        "  #search_hits = search_hits[0]  #Get the hits for the first query\r\n",
        "  return search_hits"
      ],
      "outputs": [],
      "metadata": {
        "id": "cadKVZQHRc3S"
      }
    },
    {
      "cell_type": "code",
      "execution_count": 49,
      "source": [
        "df['team'] = df['Unnamed: 16']\r\n",
        "df['results'] = df['Unnamed: 17']\r\n"
      ],
      "outputs": [],
      "metadata": {
        "id": "yvC6fyEMHtVS"
      }
    },
    {
      "cell_type": "code",
      "execution_count": null,
      "source": [
        "id_list = df['PID']\r\n",
        "uid_list = df['UID']\r\n",
        "for i in range(len(id_list)):\r\n",
        "  uid_list = id_list-499 \r\n",
        "uid_list\r\n",
        "id_list"
      ],
      "outputs": [],
      "metadata": {
        "id": "_JgJTF6ybXmI",
        "colab": {
          "base_uri": "https://localhost:8080/"
        },
        "outputId": "1643eff2-52c7-42bd-831b-3a4fb7e7a96e"
      }
    },
    {
      "cell_type": "code",
      "execution_count": null,
      "source": [
        "uid_list"
      ],
      "outputs": [],
      "metadata": {
        "colab": {
          "base_uri": "https://localhost:8080/"
        },
        "id": "9zaOFuhWFR9U",
        "outputId": "e6607f2e-2a40-4a3b-81dc-11bce932e7e0"
      }
    },
    {
      "cell_type": "code",
      "execution_count": null,
      "source": [
        "for query in query_list:\r\n",
        "  print(query)"
      ],
      "outputs": [],
      "metadata": {
        "id": "BFPP13gUhkmE",
        "colab": {
          "base_uri": "https://localhost:8080/"
        },
        "outputId": "5991d758-2e51-4095-c334-387779bec403"
      }
    },
    {
      "cell_type": "code",
      "execution_count": null,
      "source": [
        "ID = []\r\n",
        "ID_list = []\r\n",
        "values = []\r\n",
        "list_link = []\r\n",
        "list_links = []\r\n",
        "scores_list = []\r\n",
        "score_list = []\r\n",
        "value = []\r\n",
        "new_dict = {}\r\n",
        "new_dict_score = {}\r\n",
        "x = -1\r\n",
        "for query in query_list:\r\n",
        "  \r\n",
        "  id = search_keywords(query )\r\n",
        "  print(id)\r\n",
        "  score1 = fn_score(query)\r\n",
        "  #print(query)\r\n",
        "  value = []\r\n",
        "  score_list = []\r\n",
        "  k = 0\r\n",
        "  x = x + 1\r\n",
        "  #new_dict.setdefault(key, [])\r\n",
        "  \r\n",
        "  #new_dict_score[key]= []\r\n",
        "  #new_dict_score.setdefault(key, [])\r\n",
        "  list_link = []\r\n",
        "  for i in id:\r\n",
        "    if len(str(synopsis_list[i]))> 20:\r\n",
        "      \r\n",
        "      \r\n",
        "      #new_dict[key].append(id_list[i])\r\n",
        "      ID.append(id_list[i])\r\n",
        "      \r\n",
        "      #list_link.append(link_list[i])\r\n",
        "      #x = re.findall('[0-9]+', id_list[i])\r\n",
        "      #value.append(str(int(listToString(x))))\r\n",
        "  for k in range(len(ID)):\r\n",
        "      \r\n",
        "      s = round((score1[0][k]['score']),3)*100\r\n",
        "      s = round(s,1)\r\n",
        "      #new_dict_score[key].append(s)\r\n",
        "      #print(s)\r\n",
        "      score_list.append(s)\r\n",
        "     \r\n",
        "      #value.append()\r\n",
        "  scores_list.append(score_list)\r\n",
        "\r\n",
        "  values.append(value)\r\n",
        "  ID_list.append(ID)\r\n",
        "  list_links.append(list_link)\r\n",
        "    \r\n",
        "  #print(ID)\r\n",
        "  ID = []\r\n",
        "\r\n",
        "#print(scores_list)"
      ],
      "outputs": [],
      "metadata": {
        "id": "XnF5Z7DPpYOW",
        "colab": {
          "base_uri": "https://localhost:8080/"
        },
        "outputId": "551545e7-5d82-4e47-895d-de238d9282c6"
      }
    },
    {
      "cell_type": "code",
      "execution_count": null,
      "source": [
        "result_list = uid_list\r\n",
        "uid_list"
      ],
      "outputs": [],
      "metadata": {
        "colab": {
          "base_uri": "https://localhost:8080/"
        },
        "id": "W-lhoVCs_ctc",
        "outputId": "194607d2-6998-45ac-8f56-867062120bbd"
      }
    },
    {
      "cell_type": "code",
      "execution_count": null,
      "source": [
        "pid_list = []\r\n",
        "for i in range(len(ID_list)):\r\n",
        "  print(ID_list[i])\r\n",
        "  pid = ID_list[i]\r\n",
        "  #print(uid_list[i])\r\n",
        "  a = (uid_list[i] + 499)\r\n",
        "  print(a)\r\n",
        "  result_list[i] = 0\r\n",
        "  pid_list.append(pid)\r\n",
        "  for j in range(len(pid)):\r\n",
        "    if a == pid[j]:\r\n",
        "      result_list[i] = 1\r\n",
        "    \r\n"
      ],
      "outputs": [],
      "metadata": {
        "id": "XVkefjLpgtOh",
        "colab": {
          "base_uri": "https://localhost:8080/"
        },
        "outputId": "ffe31887-1d3c-4b59-bfab-510994a95f68"
      }
    },
    {
      "cell_type": "code",
      "execution_count": 59,
      "source": [
        "j = 0\r\n",
        "for i in range(len(ID_list)):\r\n",
        "  if result_list[i] == 1 :\r\n",
        "    j = j + 1\r\n",
        "j"
      ],
      "outputs": [
        {
          "output_type": "execute_result",
          "data": {
            "text/plain": [
              "43"
            ]
          },
          "metadata": {},
          "execution_count": 59
        }
      ],
      "metadata": {
        "colab": {
          "base_uri": "https://localhost:8080/"
        },
        "id": "jkecBOgBBcth",
        "outputId": "ecb604bf-e6b3-4d03-b55a-e826e0cb7050"
      }
    },
    {
      "cell_type": "code",
      "execution_count": null,
      "source": [
        "result_list"
      ],
      "outputs": [],
      "metadata": {
        "colab": {
          "base_uri": "https://localhost:8080/"
        },
        "id": "oyOFeggFGcy3",
        "outputId": "8ecfca9a-47d2-4536-d311-89a5d57db80b"
      }
    },
    {
      "cell_type": "code",
      "execution_count": 62,
      "source": [
        "df['team'] = pid_list\r\n",
        "df['results']= result_list"
      ],
      "outputs": [],
      "metadata": {
        "id": "41tvmde3JaEm"
      }
    },
    {
      "cell_type": "code",
      "execution_count": 63,
      "source": [
        "df.to_csv('Matching_Eval.csv', encoding='utf-8')"
      ],
      "outputs": [],
      "metadata": {
        "id": "DRd8OoSBJ2J8"
      }
    },
    {
      "cell_type": "code",
      "execution_count": null,
      "source": [
        "df"
      ],
      "outputs": [],
      "metadata": {
        "colab": {
          "base_uri": "https://localhost:8080/",
          "height": 1000
        },
        "id": "XZXCePnmKxju",
        "outputId": "eaca6386-c5bd-416d-9b5f-c842fcdda5a4"
      }
    }
  ]
}